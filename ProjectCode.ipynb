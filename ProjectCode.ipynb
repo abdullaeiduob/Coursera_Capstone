{
 "cells": [
  {
   "cell_type": "markdown",
   "metadata": {},
   "source": [
    "<h1>The severity of car accident </h1>\n",
    "\n",
    "<p>Car accidents cost millions of lives loss and billions of money loss every year. The severity of a car accident is the most important factor in categorizing car accidents. The loss in lives and money depends on the severity of the car accident. </p>"
   ]
  },
  {
   "cell_type": "markdown",
   "metadata": {},
   "source": [
    "<h4>Import the required packages</h4>"
   ]
  },
  {
   "cell_type": "markdown",
   "metadata": {},
   "source": [
    "import itertools\n",
    "import numpy as np\n",
    "import matplotlib.pyplot as plt\n",
    "from matplotlib.ticker import NullFormatter\n",
    "import pandas as pd\n",
    "import numpy as np\n",
    "import matplotlib.ticker as ticker\n",
    "from sklearn import preprocessing\n",
    "%matplotlib inline"
   ]
  },
  {
   "cell_type": "markdown",
   "metadata": {},
   "source": [
    "<h4>Download the data collision file</h4>"
   ]
  },
  {
   "cell_type": "code",
   "execution_count": 2,
   "metadata": {},
   "outputs": [
    {
     "name": "stdout",
     "output_type": "stream",
     "text": [
      "--2020-08-30 17:51:48--  https://s3.us.cloud-object-storage.appdomain.cloud/cf-courses-data/CognitiveClass/DP0701EN/version-2/Data-Collisions.csv\n",
      "Resolving s3.us.cloud-object-storage.appdomain.cloud (s3.us.cloud-object-storage.appdomain.cloud)... 67.228.254.196\n",
      "Connecting to s3.us.cloud-object-storage.appdomain.cloud (s3.us.cloud-object-storage.appdomain.cloud)|67.228.254.196|:443... connected.\n",
      "HTTP request sent, awaiting response... 200 OK\n",
      "Length: 73917638 (70M) [text/csv]\n",
      "Saving to: ‘Data-Collisions.csv’\n",
      "\n",
      "Data-Collisions.csv 100%[===================>]  70.49M  22.7MB/s    in 3.1s    \n",
      "\n",
      "2020-08-30 17:51:52 (22.7 MB/s) - ‘Data-Collisions.csv’ saved [73917638/73917638]\n",
      "\n"
     ]
    }
   ],
   "source": [
    "!wget -O Data-Collisions.csv https://s3.us.cloud-object-storage.appdomain.cloud/cf-courses-data/CognitiveClass/DP0701EN/version-2/Data-Collisions.csv"
   ]
  },
  {
   "cell_type": "code",
   "execution_count": 3,
   "metadata": {},
   "outputs": [
    {
     "name": "stderr",
     "output_type": "stream",
     "text": [
      "/home/jupyterlab/conda/envs/python/lib/python3.6/site-packages/IPython/core/interactiveshell.py:3072: DtypeWarning: Columns (33) have mixed types.Specify dtype option on import or set low_memory=False.\n",
      "  interactivity=interactivity, compiler=compiler, result=result)\n"
     ]
    },
    {
     "data": {
      "text/plain": [
       "Index(['SEVERITYCODE', 'X', 'Y', 'OBJECTID', 'INCKEY', 'COLDETKEY', 'REPORTNO',\n",
       "       'STATUS', 'ADDRTYPE', 'INTKEY', 'LOCATION', 'EXCEPTRSNCODE',\n",
       "       'EXCEPTRSNDESC', 'SEVERITYCODE.1', 'SEVERITYDESC', 'COLLISIONTYPE',\n",
       "       'PERSONCOUNT', 'PEDCOUNT', 'PEDCYLCOUNT', 'VEHCOUNT', 'INCDATE',\n",
       "       'INCDTTM', 'JUNCTIONTYPE', 'SDOT_COLCODE', 'SDOT_COLDESC',\n",
       "       'INATTENTIONIND', 'UNDERINFL', 'WEATHER', 'ROADCOND', 'LIGHTCOND',\n",
       "       'PEDROWNOTGRNT', 'SDOTCOLNUM', 'SPEEDING', 'ST_COLCODE', 'ST_COLDESC',\n",
       "       'SEGLANEKEY', 'CROSSWALKKEY', 'HITPARKEDCAR'],\n",
       "      dtype='object')"
      ]
     },
     "execution_count": 3,
     "metadata": {},
     "output_type": "execute_result"
    }
   ],
   "source": [
    "df = pd.read_csv('Data-Collisions.csv')\n",
    "df.columns"
   ]
  },
  {
   "cell_type": "code",
   "execution_count": 13,
   "metadata": {},
   "outputs": [
    {
     "data": {
      "text/plain": [
       "pandas.core.series.Series"
      ]
     },
     "execution_count": 13,
     "metadata": {},
     "output_type": "execute_result"
    }
   ],
   "source": [
    " df['SEVERITYCODE'].value_counts()"
   ]
  },
  {
   "cell_type": "code",
   "execution_count": 5,
   "metadata": {},
   "outputs": [
    {
     "data": {
      "text/plain": [
       "0"
      ]
     },
     "execution_count": 5,
     "metadata": {},
     "output_type": "execute_result"
    }
   ],
   "source": [
    "df['SEVERITYCODE'].isnull().sum()"
   ]
  },
  {
   "cell_type": "code",
   "execution_count": 139,
   "metadata": {},
   "outputs": [
    {
     "data": {
      "text/plain": [
       "(194673, 13)"
      ]
     },
     "execution_count": 139,
     "metadata": {},
     "output_type": "execute_result"
    }
   ],
   "source": [
    "df2=df[['SEVERITYCODE', 'X', 'Y', 'ADDRTYPE', 'COLLISIONTYPE',\n",
    "       'PERSONCOUNT', 'VEHCOUNT', 'INCDATE', 'JUNCTIONTYPE', 'INATTENTIONIND', 'WEATHER', \n",
    "        'ROADCOND', 'LIGHTCOND',]]\n",
    "df2.shape"
   ]
  },
  {
   "cell_type": "code",
   "execution_count": 140,
   "metadata": {},
   "outputs": [
    {
     "name": "stderr",
     "output_type": "stream",
     "text": [
      "/home/jupyterlab/conda/envs/python/lib/python3.6/site-packages/ipykernel_launcher.py:1: SettingWithCopyWarning: \n",
      "A value is trying to be set on a copy of a slice from a DataFrame.\n",
      "Try using .loc[row_indexer,col_indexer] = value instead\n",
      "\n",
      "See the caveats in the documentation: https://pandas.pydata.org/pandas-docs/stable/user_guide/indexing.html#returning-a-view-versus-a-copy\n",
      "  \"\"\"Entry point for launching an IPython kernel.\n",
      "/home/jupyterlab/conda/envs/python/lib/python3.6/site-packages/ipykernel_launcher.py:2: SettingWithCopyWarning: \n",
      "A value is trying to be set on a copy of a slice from a DataFrame.\n",
      "Try using .loc[row_indexer,col_indexer] = value instead\n",
      "\n",
      "See the caveats in the documentation: https://pandas.pydata.org/pandas-docs/stable/user_guide/indexing.html#returning-a-view-versus-a-copy\n",
      "  \n"
     ]
    },
    {
     "data": {
      "text/plain": [
       "4    32333\n",
       "3    29324\n",
       "2    28778\n",
       "1    28556\n",
       "5    27389\n",
       "0    26338\n",
       "6    21955\n",
       "Name: DAY, dtype: int64"
      ]
     },
     "execution_count": 140,
     "metadata": {},
     "output_type": "execute_result"
    }
   ],
   "source": [
    "df2['INCDATE'] = pd.to_datetime(df2['INCDATE'])\n",
    "df2['DAY']=df2['INCDATE'].dt.dayofweek\n",
    "df2['DAY'].value_counts()"
   ]
  },
  {
   "cell_type": "markdown",
   "metadata": {},
   "source": [
    "<h1>Exploratory Analysis</h1>"
   ]
  },
  {
   "cell_type": "markdown",
   "metadata": {},
   "source": [
    "SEVER as a pie Chart"
   ]
  },
  {
   "cell_type": "code",
   "execution_count": 157,
   "metadata": {},
   "outputs": [
    {
     "data": {
      "image/png": "[encoded data removed]",
      "text/plain": [
       "<Figure size 360x432 with 1 Axes>"
      ]
     },
     "metadata": {},
     "output_type": "display_data"
    }
   ],
   "source": [
    "df3=df2['SEVERITYCODE'].value_counts()\n",
    "\n",
    "df3.plot(kind='pie',\n",
    "                        figsize=(5,6),\n",
    "                        shadow=False,\n",
    "                        autopct='%1.1f%%'\n",
    "                        )\n",
    "\n",
    "plt.title(\"Severity of car accidents\")\n",
    "plt.axis('equal')\n",
    "plt.gcf().savefig('foo1.png')\n",
    "\n",
    "\n",
    "plt.show()\n"
   ]
  },
  {
   "cell_type": "code",
   "execution_count": 104,
   "metadata": {},
   "outputs": [
    {
     "data": {
      "text/plain": [
       "Dry               70.130234\n",
       "Wet               27.578420\n",
       "Unknown            1.311091\n",
       "Ice                0.477874\n",
       "Snow/Slush         0.292326\n",
       "Other              0.075270\n",
       "Standing Water     0.052514\n",
       "Oil                0.042011\n",
       "Sand/Mud/Dirt      0.040260\n",
       "Name: ROADCOND, dtype: float64"
      ]
     },
     "execution_count": 104,
     "metadata": {},
     "output_type": "execute_result"
    }
   ],
   "source": [
    "\n",
    "df3=df2[['SEVERITYCODE','ROADCOND']]\n",
    "\n"
   ]
  },
  {
   "cell_type": "code",
   "execution_count": 102,
   "metadata": {},
   "outputs": [
    {
     "data": {
      "image/png": "[encoded data removed]",
      "text/plain": [
       "<Figure size 720x432 with 1 Axes>"
      ]
     },
     "metadata": {
      "needs_background": "light"
     },
     "output_type": "display_data"
    }
   ],
   "source": [
    "\n"
   ]
  },
  {
   "cell_type": "code",
   "execution_count": 170,
   "metadata": {},
   "outputs": [
    {
     "data": {
      "image/png": "[encoded data removed]",
      "text/plain": [
       "<Figure size 720x432 with 1 Axes>"
      ]
     },
     "metadata": {
      "needs_background": "light"
     },
     "output_type": "display_data"
    }
   ],
   "source": [
    "df3=df2[['SEVERITYCODE','ROADCOND']]\n",
    "\n",
    "df5=pd.crosstab(df3.ROADCOND,df3.SEVERITYCODE)\n",
    "df5.sort_values([1], axis=0, ascending=False,inplace=True)\n",
    "\n",
    "df5[1]=df5[1]/df5[1].sum()*100\n",
    "df5[2]=df5[2]/df5[2].sum()*100\n",
    "\n",
    "\n",
    "\n",
    "\n",
    "df5.plot(kind='bar',\n",
    "            figsize=(10,6),)\n",
    "\n",
    "plt.title('Severity code vs Road Conditions')\n",
    "plt.ylabel('Percentage')\n",
    "plt.gcf().savefig('foo2.png')\n",
    "\n",
    "\n",
    "plt.show()\n",
    "\n"
   ]
  },
  {
   "cell_type": "markdown",
   "metadata": {},
   "source": [
    "<h2>Figure 3 between Sever and Weather </h2>"
   ]
  },
  {
   "cell_type": "code",
   "execution_count": 171,
   "metadata": {},
   "outputs": [
    {
     "data": {
      "image/png": "[encoded data removed]",
      "text/plain": [
       "<Figure size 720x432 with 1 Axes>"
      ]
     },
     "metadata": {
      "needs_background": "light"
     },
     "output_type": "display_data"
    }
   ],
   "source": [
    "df3=df2[['SEVERITYCODE','WEATHER']]\n",
    "\n",
    "df5=pd.crosstab(df3.WEATHER,df3.SEVERITYCODE)\n",
    "df5.sort_values([1], axis=0, ascending=False,inplace=True)\n",
    "\n",
    "df5[1]=df5[1]/df5[1].sum()*100\n",
    "df5[2]=df5[2]/df5[2].sum()*100\n",
    "\n",
    "df5.plot(kind='bar',\n",
    "            figsize=(10,6),)\n",
    "\n",
    "plt.title('Severity code vs Weather Conditions')\n",
    "plt.ylabel('Percentage')\n",
    "plt.gcf().savefig('foo3.png')\n",
    "\n",
    "\n",
    "plt.show()\n",
    "\n",
    "\n"
   ]
  },
  {
   "cell_type": "markdown",
   "metadata": {},
   "source": [
    "<h2>Figure 4 between Sever and Junctions </h2>"
   ]
  },
  {
   "cell_type": "code",
   "execution_count": 172,
   "metadata": {},
   "outputs": [
    {
     "data": {
      "image/png": "[encoded data removed]",
      "text/plain": [
       "<Figure size 720x432 with 1 Axes>"
      ]
     },
     "metadata": {
      "needs_background": "light"
     },
     "output_type": "display_data"
    }
   ],
   "source": [
    "df3=df2[['SEVERITYCODE','JUNCTIONTYPE']]\n",
    "\n",
    "df5=pd.crosstab(df3.JUNCTIONTYPE,df3.SEVERITYCODE)\n",
    "df5.sort_values([1], axis=0, ascending=False,inplace=True)\n",
    "\n",
    "df5[1]=df5[1]/df5[1].sum()*100\n",
    "df5[2]=df5[2]/df5[2].sum()*100\n",
    "\n",
    "df5.plot(kind='bar',\n",
    "            figsize=(10,6),)\n",
    "\n",
    "plt.title('Severity code vs Junction Types')\n",
    "plt.ylabel('Percentage')\n",
    "plt.gcf().savefig('foo4.png')\n",
    "plt.show()\n",
    "\n",
    "\n",
    "\n"
   ]
  },
  {
   "cell_type": "markdown",
   "metadata": {},
   "source": [
    "<h2>Figure 5 between Sever and Attention </h2>"
   ]
  },
  {
   "cell_type": "code",
   "execution_count": 173,
   "metadata": {},
   "outputs": [
    {
     "data": {
      "image/png": "[encoded data removed]",
      "text/plain": [
       "<Figure size 720x432 with 1 Axes>"
      ]
     },
     "metadata": {
      "needs_background": "light"
     },
     "output_type": "display_data"
    }
   ],
   "source": [
    "df3=df2[['SEVERITYCODE','COLLISIONTYPE']]\n",
    "\n",
    "df5=pd.crosstab(df3.COLLISIONTYPE,df3.SEVERITYCODE)\n",
    "df5.sort_values([1], axis=0, ascending=False,inplace=True)\n",
    "\n",
    "df5[1]=df5[1]/df5[1].sum()*100\n",
    "df5[2]=df5[2]/df5[2].sum()*100\n",
    "\n",
    "df5.plot(kind='bar',\n",
    "            figsize=(10,6),)\n",
    "\n",
    "plt.title('Severity code vs Collision Type ')\n",
    "plt.ylabel('Percentage')\n",
    "plt.gcf().savefig('foo6.png')\n",
    "plt.show()\n"
   ]
  },
  {
   "cell_type": "code",
   "execution_count": 143,
   "metadata": {},
   "outputs": [
    {
     "data": {
      "text/plain": [
       "Parked Car    47987\n",
       "Angles        34674\n",
       "Rear Ended    34090\n",
       "Other         23703\n",
       "Sideswipe     18609\n",
       "Left Turn     13703\n",
       "Pedestrian     6608\n",
       "Cycles         5415\n",
       "Right Turn     2956\n",
       "Head On        2024\n",
       "Name: COLLISIONTYPE, dtype: int64"
      ]
     },
     "execution_count": 143,
     "metadata": {},
     "output_type": "execute_result"
    }
   ],
   "source": [
    "df['COLLISIONTYPE'].value_counts()"
   ]
  },
  {
   "cell_type": "code",
   "execution_count": 165,
   "metadata": {},
   "outputs": [
    {
     "data": {
      "text/plain": [
       "COLLISIONTYPE\n",
       "Parked Car    45325\n",
       "Angles        21050\n",
       "Rear Ended    19419\n",
       "Other         17591\n",
       "Sideswipe     16103\n",
       "Left Turn      8292\n",
       "Right Turn     2347\n",
       "Head On        1152\n",
       "Pedestrian      672\n",
       "Cycles          671\n",
       "Name: 1, dtype: int64"
      ]
     },
     "execution_count": 165,
     "metadata": {},
     "output_type": "execute_result"
    }
   ],
   "source": [
    "df3=df2[['SEVERITYCODE','COLLISIONTYPE']]\n",
    "\n",
    "df5=pd.crosstab(df3.COLLISIONTYPE,df3.SEVERITYCODE)\n",
    "df5.sort_values([1], axis=0, ascending=False,inplace=True)\n",
    "\n"
   ]
  },
  {
   "cell_type": "markdown",
   "metadata": {},
   "source": [
    "<h1>Model Predictions</h1>"
   ]
  },
  {
   "cell_type": "markdown",
   "metadata": {},
   "source": [
    "<h3> Changing the categorial variables into numerics </h3>"
   ]
  },
  {
   "cell_type": "code",
   "execution_count": 4,
   "metadata": {},
   "outputs": [
    {
     "data": {
      "text/plain": [
       " 0    124510\n",
       " 8     47474\n",
       " 7     15078\n",
       "-1      5012\n",
       " 1      1209\n",
       " 5      1004\n",
       " 3       132\n",
       " 6       115\n",
       " 4        75\n",
       " 2        64\n",
       "Name: ROADCOND, dtype: int64"
      ]
     },
     "execution_count": 4,
     "metadata": {},
     "output_type": "execute_result"
    }
   ],
   "source": [
    "train=df.copy()\n",
    "train['ROADCOND'] = train['ROADCOND'].astype('category').cat.codes\n",
    "train['WEATHER'] = train['WEATHER'].astype('category').cat.codes\n",
    "train['JUNCTIONTYPE'] = train['JUNCTIONTYPE'].astype('category').cat.codes\n",
    "train['COLLISIONTYPE'] = train['COLLISIONTYPE'].astype('category').cat.codes\n",
    "\n",
    "\n",
    "\n",
    "\n",
    "\n",
    "\n",
    "#value_mapper = dict(zip(train['ROADCOND'].unique(), np.arange(1, train['ROADCOND'].nunique()+4)))\n",
    "#train['ROADCOND'].replace(value_mapper, inplace=True)\n",
    "df['ROADCOND'].value_counts()\n",
    "train['ROADCOND'].value_counts()\n",
    "\n"
   ]
  },
  {
   "cell_type": "code",
   "execution_count": 7,
   "metadata": {},
   "outputs": [
    {
     "data": {
      "text/plain": [
       "array([2, 1, 1, 1, 2])"
      ]
     },
     "execution_count": 7,
     "metadata": {},
     "output_type": "execute_result"
    }
   ],
   "source": [
    "\n"
   ]
  },
  {
   "cell_type": "code",
   "execution_count": 5,
   "metadata": {},
   "outputs": [
    {
     "name": "stderr",
     "output_type": "stream",
     "text": [
      "/home/jupyterlab/conda/envs/python/lib/python3.6/site-packages/sklearn/preprocessing/data.py:625: DataConversionWarning: Data with input dtype int8 were all converted to float64 by StandardScaler.\n",
      "  return self.partial_fit(X, y)\n",
      "/home/jupyterlab/conda/envs/python/lib/python3.6/site-packages/ipykernel_launcher.py:8: DataConversionWarning: Data with input dtype int8 were all converted to float64 by StandardScaler.\n",
      "  \n"
     ]
    },
    {
     "data": {
      "text/plain": [
       "array([[ 1.50545441,  0.35364615, -1.06281401, -1.51529661],\n",
       "       [ 1.50545441,  1.04520829,  0.92914878,  1.60875294],\n",
       "       [-0.68713674,  0.35364615,  0.92914878,  0.22028647],\n",
       "       [-0.68713674, -0.68369706,  0.92914878, -0.12683015],\n",
       "       [ 1.50545441,  1.04520829, -1.06281401, -1.51529661]])"
      ]
     },
     "execution_count": 5,
     "metadata": {},
     "output_type": "execute_result"
    }
   ],
   "source": [
    "Feature = train[['ROADCOND','WEATHER','JUNCTIONTYPE','COLLISIONTYPE']]\n",
    "\n",
    "Feature.head()\n",
    "X = Feature\n",
    "X[0:5]\n",
    "y = df['SEVERITYCODE'].values\n",
    "y[0:5]\n",
    "X= preprocessing.StandardScaler().fit(X).transform(X)\n",
    "X[0:5]"
   ]
  },
  {
   "cell_type": "code",
   "execution_count": 6,
   "metadata": {},
   "outputs": [
    {
     "name": "stdout",
     "output_type": "stream",
     "text": [
      "Train set: (155738, 4) (155738,)\n",
      "Test set: (38935, 4) (38935,)\n"
     ]
    }
   ],
   "source": [
    "from sklearn.model_selection import train_test_split\n",
    "X_train, X_test, y_train, y_test = train_test_split(X,y, test_size=0.2, random_state=4)\n",
    "print('Train set:', X_train.shape, y_train.shape)\n",
    "print('Test set:',X_test.shape, y_test.shape)"
   ]
  },
  {
   "cell_type": "code",
   "execution_count": 12,
   "metadata": {},
   "outputs": [
    {
     "data": {
      "text/plain": [
       "array([0.68511622, 0.73170669, 0.71149351, 0.72433543, 0.71912161,\n",
       "       0.74426608, 0.72600488])"
      ]
     },
     "execution_count": 12,
     "metadata": {},
     "output_type": "execute_result"
    }
   ],
   "source": [
    "from sklearn.neighbors import KNeighborsClassifier\n",
    "from sklearn import metrics\n",
    "\n",
    "Ks=8\n",
    "mean_acc = np.zeros((Ks-1))\n",
    "std_acc = np. zeros((Ks-1))\n",
    "ConfustionMx=[];\n",
    "\n",
    "for n in range(1,Ks):\n",
    "    \n",
    "    neigh=KNeighborsClassifier(n_neighbors=n).fit(X_train, y_train)\n",
    "    yhat=neigh.predict(X_test)\n",
    "    mean_acc[n-1]=metrics.accuracy_score(y_test, yhat)\n",
    "    std_acc[n-1]=np.std(yhat==y_test)/ np.sqrt(yhat.shape[0])\n",
    "\n",
    "mean_acc"
   ]
  },
  {
   "cell_type": "code",
   "execution_count": 13,
   "metadata": {},
   "outputs": [
    {
     "name": "stdout",
     "output_type": "stream",
     "text": [
      "The best accuracy was with 0.7442660844998074  with k= 6\n"
     ]
    }
   ],
   "source": [
    "print(\"The best accuracy was with\", mean_acc.max(), \" with k=\", mean_acc.argmax()+1)\n",
    "\n"
   ]
  },
  {
   "cell_type": "markdown",
   "metadata": {},
   "source": [
    "<h3>Decision Tree</h3>"
   ]
  },
  {
   "cell_type": "code",
   "execution_count": 9,
   "metadata": {},
   "outputs": [
    {
     "name": "stdout",
     "output_type": "stream",
     "text": [
      "[1 1 1 1 1]\n",
      "[2 1 1 2 2]\n",
      "DecisionTree Accuracy: 0.752459226916656\n"
     ]
    }
   ],
   "source": [
    "from sklearn.tree import DecisionTreeClassifier\n",
    "\n",
    "\n",
    "Tee=DecisionTreeClassifier(criterion='entropy', max_depth=4)\n",
    "Tee.fit(X_train,y_train)\n",
    "predTee=Tee.predict(X_test)\n",
    "print(predTee[0:5])\n",
    "print(y_test[0:5])\n",
    "\n",
    "print('DecisionTree Accuracy:', metrics.accuracy_score(y_test,predTee))\n"
   ]
  },
  {
   "cell_type": "markdown",
   "metadata": {},
   "source": [
    "<h3> SVM</h3>"
   ]
  },
  {
   "cell_type": "code",
   "execution_count": null,
   "metadata": {},
   "outputs": [
    {
     "name": "stderr",
     "output_type": "stream",
     "text": [
      "/home/jupyterlab/conda/envs/python/lib/python3.6/site-packages/sklearn/svm/base.py:196: FutureWarning: The default value of gamma will change from 'auto' to 'scale' in version 0.22 to account better for unscaled features. Set gamma explicitly to 'auto' or 'scale' to avoid this warning.\n",
      "  \"avoid this warning.\", FutureWarning)\n"
     ]
    }
   ],
   "source": [
    "from sklearn import svm\n",
    "clf=svm.SVC(kernel='rbf')\n",
    "clf.fit(X_train,y_train)\n",
    "\n",
    "yyhat=clf.predict(X_test)\n",
    "\n",
    "from sklearn.metrics import f1_score, jaccard_similarity_score, log_loss\n",
    "print(f1_score(y_test, yyhat, average='weighted'))\n",
    "print(jaccard_similarity_score(y_test,yyhat))"
   ]
  },
  {
   "cell_type": "markdown",
   "metadata": {},
   "source": [
    "<h3> Reg</h3>"
   ]
  },
  {
   "cell_type": "code",
   "execution_count": 10,
   "metadata": {},
   "outputs": [
    {
     "name": "stdout",
     "output_type": "stream",
     "text": [
      "0.5852444396947257\n",
      "0.7029407987671761\n",
      "0.5895752499787502\n"
     ]
    }
   ],
   "source": [
    "from sklearn.linear_model import LogisticRegression\n",
    "from sklearn.metrics import f1_score, jaccard_similarity_score, log_loss\n",
    "\n",
    "\n",
    "from sklearn.metrics import confusion_matrix\n",
    "LR = LogisticRegression(C=0.01, solver='liblinear').fit(X_train, y_train)\n",
    "yyyhat=LR.predict(X_test)\n",
    "\n",
    "print(f1_score(y_test, yyyhat, average='weighted'))\n",
    "print(jaccard_similarity_score(y_test,yyyhat))\n",
    "print(log_loss(y_test,LR.predict_proba(X_test)))"
   ]
  },
  {
   "cell_type": "code",
   "execution_count": 14,
   "metadata": {},
   "outputs": [
    {
     "name": "stdout",
     "output_type": "stream",
     "text": [
      "                     Jaccard  F1-score   LogLoss\n",
      "Algorithm                                       \n",
      "KNN                 0.744266   0.69749        NA\n",
      "Decision Tree       0.752459  0.689341        NA\n",
      "SVM                       NA        NA        NA\n",
      "LogisticRegression  0.702941  0.585244  0.589575\n"
     ]
    }
   ],
   "source": [
    "XX=X_test\n",
    "yy=y_test\n",
    "\n",
    "neighh=KNeighborsClassifier(n_neighbors=6).fit(X_train, y_train)\n",
    "yht=neighh.predict(XX)\n",
    "\n",
    "data = {'Algorithm':  ['KNN','Decision Tree', 'SVM', 'LogisticRegression'],\n",
    "        'Jaccard':  [jaccard_similarity_score(yy,neighh.predict(XX)),\n",
    "                     jaccard_similarity_score(yy,Tee.predict(XX)),\n",
    "                     'NA',\n",
    "                     jaccard_similarity_score(yy,LR.predict(XX))],\n",
    "        'F1-score':  [f1_score(yy,neighh.predict(XX) , average='weighted'),\n",
    "                      f1_score(yy,Tee.predict(XX) , average='weighted'),\n",
    "                      'NA',\n",
    "                      f1_score(yy, LR.predict(XX), average='weighted')],\n",
    "        'LogLoss':  ['NA', 'NA','NA',log_loss(yy,LR.predict_proba(XX))]\n",
    "       }\n",
    "        \n",
    "datf = pd.DataFrame (data, columns = ['Algorithm','Jaccard','F1-score','LogLoss'])\n",
    "datf.set_index('Algorithm', inplace=True)\n",
    "print(datf)   "
   ]
  },
  {
   "cell_type": "code",
   "execution_count": null,
   "metadata": {},
   "outputs": [],
   "source": []
  }
 ],
 "metadata": {
  "kernelspec": {
   "display_name": "Python",
   "language": "python",
   "name": "conda-env-python-py"
  },
  "language_info": {
   "codemirror_mode": {
    "name": "ipython",
    "version": 3
   },
   "file_extension": ".py",
   "mimetype": "text/x-python",
   "name": "python",
   "nbconvert_exporter": "python",
   "pygments_lexer": "ipython3",
   "version": "3.6.11"
  }
 },
 "nbformat": 4,
 "nbformat_minor": 4
}
